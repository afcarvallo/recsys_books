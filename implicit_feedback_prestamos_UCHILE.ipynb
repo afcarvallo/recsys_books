{
 "cells": [
  {
   "cell_type": "code",
   "execution_count": 3,
   "metadata": {},
   "outputs": [],
   "source": [
    "import pandas as pd\n",
    "import numpy as np\n",
    "import matplotlib.pyplot as plt\n",
    "\n",
    "import scipy.sparse as sparse\n",
    "from scipy.sparse.linalg import spsolve\n",
    "import random\n",
    "import implicit\n",
    "from sklearn import metrics\n",
    "from sklearn.preprocessing import MinMaxScaler\n",
    "import ndcg\n",
    "import MAP\n",
    "from functools import reduce\n",
    "\n",
    "from sklearn.model_selection import train_test_split\n",
    "\n",
    "%matplotlib inline"
   ]
  },
  {
   "cell_type": "code",
   "execution_count": 4,
   "metadata": {},
   "outputs": [
    {
     "data": {
      "text/html": [
       "<div>\n",
       "<style>\n",
       "    .dataframe thead tr:only-child th {\n",
       "        text-align: right;\n",
       "    }\n",
       "\n",
       "    .dataframe thead th {\n",
       "        text-align: left;\n",
       "    }\n",
       "\n",
       "    .dataframe tbody tr th {\n",
       "        vertical-align: top;\n",
       "    }\n",
       "</style>\n",
       "<table border=\"1\" class=\"dataframe\">\n",
       "  <thead>\n",
       "    <tr style=\"text-align: right;\">\n",
       "      <th></th>\n",
       "      <th>user</th>\n",
       "      <th>item</th>\n",
       "      <th>title</th>\n",
       "      <th>date</th>\n",
       "    </tr>\n",
       "  </thead>\n",
       "  <tbody>\n",
       "    <tr>\n",
       "      <th>0</th>\n",
       "      <td>1068882100003936</td>\n",
       "      <td>35601000194955</td>\n",
       "      <td>111 funciones en Clipper : versión 5.01 /</td>\n",
       "      <td>2017-08-21T03:00:00Z</td>\n",
       "    </tr>\n",
       "    <tr>\n",
       "      <th>1</th>\n",
       "      <td>1068882100003936</td>\n",
       "      <td>35601151720236</td>\n",
       "      <td>Dendrometría /</td>\n",
       "      <td>2017-08-03T04:00:00Z</td>\n",
       "    </tr>\n",
       "    <tr>\n",
       "      <th>2</th>\n",
       "      <td>1068882820003936</td>\n",
       "      <td>35601006107647</td>\n",
       "      <td>Economia desde el corazon : recopilacion de lo...</td>\n",
       "      <td>2017-08-07T04:00:00Z</td>\n",
       "    </tr>\n",
       "    <tr>\n",
       "      <th>3</th>\n",
       "      <td>1068882820003936</td>\n",
       "      <td>35601006107647</td>\n",
       "      <td>Economia desde el corazon : recopilacion de lo...</td>\n",
       "      <td>2017-08-18T03:00:00Z</td>\n",
       "    </tr>\n",
       "    <tr>\n",
       "      <th>4</th>\n",
       "      <td>1068882820003936</td>\n",
       "      <td>35601154427417</td>\n",
       "      <td>Matemáticas aplicadas a la administración y ...</td>\n",
       "      <td>2017-08-30T03:00:00Z</td>\n",
       "    </tr>\n",
       "  </tbody>\n",
       "</table>\n",
       "</div>"
      ],
      "text/plain": [
       "               user            item  \\\n",
       "0  1068882100003936  35601000194955   \n",
       "1  1068882100003936  35601151720236   \n",
       "2  1068882820003936  35601006107647   \n",
       "3  1068882820003936  35601006107647   \n",
       "4  1068882820003936  35601154427417   \n",
       "\n",
       "                                               title                  date  \n",
       "0         111 funciones en Clipper : versión 5.01 /  2017-08-21T03:00:00Z  \n",
       "1                                    Dendrometría /  2017-08-03T04:00:00Z  \n",
       "2  Economia desde el corazon : recopilacion de lo...  2017-08-07T04:00:00Z  \n",
       "3  Economia desde el corazon : recopilacion de lo...  2017-08-18T03:00:00Z  \n",
       "4  Matemáticas aplicadas a la administración y ...  2017-08-30T03:00:00Z  "
      ]
     },
     "execution_count": 4,
     "metadata": {},
     "output_type": "execute_result"
    }
   ],
   "source": [
    "df = pd.read_csv('uchile-loans-18.txt', sep=';')\n",
    "df.head()"
   ]
  },
  {
   "cell_type": "code",
   "execution_count": 17,
   "metadata": {},
   "outputs": [
    {
     "data": {
      "text/html": [
       "<div>\n",
       "<style>\n",
       "    .dataframe thead tr:only-child th {\n",
       "        text-align: right;\n",
       "    }\n",
       "\n",
       "    .dataframe thead th {\n",
       "        text-align: left;\n",
       "    }\n",
       "\n",
       "    .dataframe tbody tr th {\n",
       "        vertical-align: top;\n",
       "    }\n",
       "</style>\n",
       "<table border=\"1\" class=\"dataframe\">\n",
       "  <thead>\n",
       "    <tr style=\"text-align: right;\">\n",
       "      <th></th>\n",
       "      <th>user</th>\n",
       "      <th>item</th>\n",
       "      <th>title</th>\n",
       "      <th>date</th>\n",
       "    </tr>\n",
       "  </thead>\n",
       "  <tbody>\n",
       "    <tr>\n",
       "      <th>0</th>\n",
       "      <td>1068882100003936</td>\n",
       "      <td>35601000194955</td>\n",
       "      <td>111 funciones en Clipper : versión 5.01 /</td>\n",
       "      <td>2017-08-21T03:00:00Z</td>\n",
       "    </tr>\n",
       "    <tr>\n",
       "      <th>1</th>\n",
       "      <td>1068882100003936</td>\n",
       "      <td>35601151720236</td>\n",
       "      <td>Dendrometría /</td>\n",
       "      <td>2017-08-03T04:00:00Z</td>\n",
       "    </tr>\n",
       "    <tr>\n",
       "      <th>2</th>\n",
       "      <td>1068882820003936</td>\n",
       "      <td>35601006107647</td>\n",
       "      <td>Economia desde el corazon : recopilacion de lo...</td>\n",
       "      <td>2017-08-07T04:00:00Z</td>\n",
       "    </tr>\n",
       "    <tr>\n",
       "      <th>3</th>\n",
       "      <td>1068882820003936</td>\n",
       "      <td>35601006107647</td>\n",
       "      <td>Economia desde el corazon : recopilacion de lo...</td>\n",
       "      <td>2017-08-18T03:00:00Z</td>\n",
       "    </tr>\n",
       "    <tr>\n",
       "      <th>4</th>\n",
       "      <td>1068882820003936</td>\n",
       "      <td>35601154427417</td>\n",
       "      <td>Matemáticas aplicadas a la administración y ...</td>\n",
       "      <td>2017-08-30T03:00:00Z</td>\n",
       "    </tr>\n",
       "  </tbody>\n",
       "</table>\n",
       "</div>"
      ],
      "text/plain": [
       "               user            item  \\\n",
       "0  1068882100003936  35601000194955   \n",
       "1  1068882100003936  35601151720236   \n",
       "2  1068882820003936  35601006107647   \n",
       "3  1068882820003936  35601006107647   \n",
       "4  1068882820003936  35601154427417   \n",
       "\n",
       "                                               title                  date  \n",
       "0         111 funciones en Clipper : versión 5.01 /  2017-08-21T03:00:00Z  \n",
       "1                                    Dendrometría /  2017-08-03T04:00:00Z  \n",
       "2  Economia desde el corazon : recopilacion de lo...  2017-08-07T04:00:00Z  \n",
       "3  Economia desde el corazon : recopilacion de lo...  2017-08-18T03:00:00Z  \n",
       "4  Matemáticas aplicadas a la administración y ...  2017-08-30T03:00:00Z  "
      ]
     },
     "execution_count": 17,
     "metadata": {},
     "output_type": "execute_result"
    }
   ],
   "source": [
    "# quitamos nulls \n",
    "df = df.loc[pd.isnull(df.user) == False]\n",
    "df.head(5)"
   ]
  },
  {
   "cell_type": "code",
   "execution_count": 18,
   "metadata": {},
   "outputs": [
    {
     "name": "stdout",
     "output_type": "stream",
     "text": [
      "usuarios: 7685\n",
      "libros: 36610\n",
      "prestamos por usuario: 4.763825634352635\n"
     ]
    }
   ],
   "source": [
    "num_users = len(df['user'].unique())\n",
    "num_books = len(df['item'].unique())\n",
    "print('usuarios: {}'.format(num_users))\n",
    "print('libros: {}'.format(num_books))\n",
    "print('prestamos por usuario: {}'.format(num_books/num_users))"
   ]
  },
  {
   "cell_type": "code",
   "execution_count": 22,
   "metadata": {},
   "outputs": [],
   "source": [
    "# creamos df con items unicos para hacer busqueda por id mas eficiente \n",
    "item_lookup = df[['item', 'title']].drop_duplicates() \n",
    "item_lookup['item'] = item_lookup.item.astype(str) "
   ]
  },
  {
   "cell_type": "code",
   "execution_count": 27,
   "metadata": {},
   "outputs": [
    {
     "data": {
      "text/html": [
       "<div>\n",
       "<style>\n",
       "    .dataframe thead tr:only-child th {\n",
       "        text-align: right;\n",
       "    }\n",
       "\n",
       "    .dataframe thead th {\n",
       "        text-align: left;\n",
       "    }\n",
       "\n",
       "    .dataframe tbody tr th {\n",
       "        vertical-align: top;\n",
       "    }\n",
       "</style>\n",
       "<table border=\"1\" class=\"dataframe\">\n",
       "  <thead>\n",
       "    <tr style=\"text-align: right;\">\n",
       "      <th></th>\n",
       "      <th>user</th>\n",
       "      <th>item</th>\n",
       "      <th>Quantity</th>\n",
       "    </tr>\n",
       "  </thead>\n",
       "  <tbody>\n",
       "    <tr>\n",
       "      <th>0</th>\n",
       "      <td>1068882100003936</td>\n",
       "      <td>35601000194955</td>\n",
       "      <td>1</td>\n",
       "    </tr>\n",
       "    <tr>\n",
       "      <th>1</th>\n",
       "      <td>1068882100003936</td>\n",
       "      <td>35601151720236</td>\n",
       "      <td>1</td>\n",
       "    </tr>\n",
       "    <tr>\n",
       "      <th>2</th>\n",
       "      <td>1068882820003936</td>\n",
       "      <td>35601006107647</td>\n",
       "      <td>2</td>\n",
       "    </tr>\n",
       "    <tr>\n",
       "      <th>3</th>\n",
       "      <td>1068882820003936</td>\n",
       "      <td>35601154427417</td>\n",
       "      <td>1</td>\n",
       "    </tr>\n",
       "    <tr>\n",
       "      <th>4</th>\n",
       "      <td>1068882820003936</td>\n",
       "      <td>35601154878395</td>\n",
       "      <td>1</td>\n",
       "    </tr>\n",
       "  </tbody>\n",
       "</table>\n",
       "</div>"
      ],
      "text/plain": [
       "               user            item  Quantity\n",
       "0  1068882100003936  35601000194955         1\n",
       "1  1068882100003936  35601151720236         1\n",
       "2  1068882820003936  35601006107647         2\n",
       "3  1068882820003936  35601154427417         1\n",
       "4  1068882820003936  35601154878395         1"
      ]
     },
     "execution_count": 27,
     "metadata": {},
     "output_type": "execute_result"
    }
   ],
   "source": [
    "df['user'] = df.user.astype(str)\n",
    "grouped_books = df.groupby([\"user\", \"item\"]).size().reset_index(name=\"Quantity\")\n",
    "grouped_books.head(5)"
   ]
  },
  {
   "cell_type": "markdown",
   "metadata": {},
   "source": [
    "### libros mas arrendados: "
   ]
  },
  {
   "cell_type": "code",
   "execution_count": 48,
   "metadata": {},
   "outputs": [
    {
     "data": {
      "text/html": [
       "<div>\n",
       "<style>\n",
       "    .dataframe thead tr:only-child th {\n",
       "        text-align: right;\n",
       "    }\n",
       "\n",
       "    .dataframe thead th {\n",
       "        text-align: left;\n",
       "    }\n",
       "\n",
       "    .dataframe tbody tr th {\n",
       "        vertical-align: top;\n",
       "    }\n",
       "</style>\n",
       "<table border=\"1\" class=\"dataframe\">\n",
       "  <thead>\n",
       "    <tr style=\"text-align: right;\">\n",
       "      <th></th>\n",
       "      <th>title</th>\n",
       "      <th>Quantity</th>\n",
       "    </tr>\n",
       "  </thead>\n",
       "  <tbody>\n",
       "    <tr>\n",
       "      <th>0</th>\n",
       "      <td>Computador personal [realia]</td>\n",
       "      <td>146</td>\n",
       "    </tr>\n",
       "    <tr>\n",
       "      <th>542</th>\n",
       "      <td>Diccionario ilustrado latino-español español...</td>\n",
       "      <td>79</td>\n",
       "    </tr>\n",
       "    <tr>\n",
       "      <th>886</th>\n",
       "      <td>Microeconomía y conducta /</td>\n",
       "      <td>55</td>\n",
       "    </tr>\n",
       "    <tr>\n",
       "      <th>1036</th>\n",
       "      <td>Notebook Toshiba Satellite</td>\n",
       "      <td>44</td>\n",
       "    </tr>\n",
       "    <tr>\n",
       "      <th>1165</th>\n",
       "      <td>Diccionario ilustrado latín : latino-español...</td>\n",
       "      <td>42</td>\n",
       "    </tr>\n",
       "  </tbody>\n",
       "</table>\n",
       "</div>"
      ],
      "text/plain": [
       "                                                  title  Quantity\n",
       "0                          Computador personal [realia]       146\n",
       "542   Diccionario ilustrado latino-español español...        79\n",
       "886                         Microeconomía y conducta /        55\n",
       "1036                         Notebook Toshiba Satellite        44\n",
       "1165  Diccionario ilustrado latín : latino-español...        42"
      ]
     },
     "execution_count": 48,
     "metadata": {},
     "output_type": "execute_result"
    }
   ],
   "source": [
    "item_df = grouped_books.groupby(['item']).sum()\n",
    "\n",
    "#libros mas arrendados (computador personal¿? , Notebook Toshiba¿?)\n",
    "books_df = item_df.sort_values(by='Quantity', ascending=False)\n",
    "books_df['item'] = books_df.index\n",
    "books_df = books_df[['item', 'Quantity']]\n",
    "mas_arrendado_df = books_df.merge(df, on='item').drop_duplicates('title').head()\n",
    "mas_arrendado_df[['title', 'Quantity']]"
   ]
  },
  {
   "cell_type": "code",
   "execution_count": 49,
   "metadata": {},
   "outputs": [
    {
     "data": {
      "text/html": [
       "<div>\n",
       "<style>\n",
       "    .dataframe thead tr:only-child th {\n",
       "        text-align: right;\n",
       "    }\n",
       "\n",
       "    .dataframe thead th {\n",
       "        text-align: left;\n",
       "    }\n",
       "\n",
       "    .dataframe tbody tr th {\n",
       "        vertical-align: top;\n",
       "    }\n",
       "</style>\n",
       "<table border=\"1\" class=\"dataframe\">\n",
       "  <thead>\n",
       "    <tr style=\"text-align: right;\">\n",
       "      <th></th>\n",
       "      <th>#items</th>\n",
       "      <th>quantity lends</th>\n",
       "    </tr>\n",
       "    <tr>\n",
       "      <th>Quantity</th>\n",
       "      <th></th>\n",
       "      <th></th>\n",
       "    </tr>\n",
       "  </thead>\n",
       "  <tbody>\n",
       "    <tr>\n",
       "      <th>1</th>\n",
       "      <td>29772</td>\n",
       "      <td>1</td>\n",
       "    </tr>\n",
       "    <tr>\n",
       "      <th>2</th>\n",
       "      <td>3400</td>\n",
       "      <td>2</td>\n",
       "    </tr>\n",
       "    <tr>\n",
       "      <th>3</th>\n",
       "      <td>1359</td>\n",
       "      <td>3</td>\n",
       "    </tr>\n",
       "    <tr>\n",
       "      <th>4</th>\n",
       "      <td>675</td>\n",
       "      <td>4</td>\n",
       "    </tr>\n",
       "    <tr>\n",
       "      <th>5</th>\n",
       "      <td>390</td>\n",
       "      <td>5</td>\n",
       "    </tr>\n",
       "  </tbody>\n",
       "</table>\n",
       "</div>"
      ],
      "text/plain": [
       "          #items  quantity lends\n",
       "Quantity                        \n",
       "1          29772               1\n",
       "2           3400               2\n",
       "3           1359               3\n",
       "4            675               4\n",
       "5            390               5"
      ]
     },
     "execution_count": 49,
     "metadata": {},
     "output_type": "execute_result"
    }
   ],
   "source": [
    "books_data = books_df.groupby(['Quantity']).count()\n",
    "books_data['Quantity'] = books_data.index\n",
    "books_data = books_data[['item', 'Quantity']]\n",
    "books_data.columns = ['#items', 'quantity lends']\n",
    "\n",
    "# existen 29.772 libros que han sido arrendados una sola vez, libro mas arrendado \"computador personal\"\n",
    "books_data.head(5)\n"
   ]
  },
  {
   "cell_type": "code",
   "execution_count": 52,
   "metadata": {},
   "outputs": [
    {
     "data": {
      "image/png": "[encoded data removed]",
      "text/plain": [
       "<matplotlib.figure.Figure at 0x117e6a4e0>"
      ]
     },
     "metadata": {},
     "output_type": "display_data"
    }
   ],
   "source": [
    "# 29.772 libros han sido arrendados una vez \n",
    "books_data = books_data.head(100)\n",
    "books_plot = books_data.plot.bar(x='quantity lends',y='#items', color='orange', figsize=(10,5))"
   ]
  },
  {
   "cell_type": "markdown",
   "metadata": {},
   "source": [
    "### usuarios que mas han arrendado: "
   ]
  },
  {
   "cell_type": "code",
   "execution_count": 53,
   "metadata": {},
   "outputs": [
    {
     "data": {
      "text/html": [
       "<div>\n",
       "<style>\n",
       "    .dataframe thead tr:only-child th {\n",
       "        text-align: right;\n",
       "    }\n",
       "\n",
       "    .dataframe thead th {\n",
       "        text-align: left;\n",
       "    }\n",
       "\n",
       "    .dataframe tbody tr th {\n",
       "        vertical-align: top;\n",
       "    }\n",
       "</style>\n",
       "<table border=\"1\" class=\"dataframe\">\n",
       "  <thead>\n",
       "    <tr style=\"text-align: right;\">\n",
       "      <th></th>\n",
       "      <th>user</th>\n",
       "      <th>Quantity</th>\n",
       "    </tr>\n",
       "    <tr>\n",
       "      <th>user</th>\n",
       "      <th></th>\n",
       "      <th></th>\n",
       "    </tr>\n",
       "  </thead>\n",
       "  <tbody>\n",
       "    <tr>\n",
       "      <th>1720643430003936</th>\n",
       "      <td>1720643430003936</td>\n",
       "      <td>8410</td>\n",
       "    </tr>\n",
       "    <tr>\n",
       "      <th>1749816590003936</th>\n",
       "      <td>1749816590003936</td>\n",
       "      <td>495</td>\n",
       "    </tr>\n",
       "    <tr>\n",
       "      <th>1720601200003936</th>\n",
       "      <td>1720601200003936</td>\n",
       "      <td>314</td>\n",
       "    </tr>\n",
       "    <tr>\n",
       "      <th>1738975340003936</th>\n",
       "      <td>1738975340003936</td>\n",
       "      <td>204</td>\n",
       "    </tr>\n",
       "    <tr>\n",
       "      <th>1737308380003936</th>\n",
       "      <td>1737308380003936</td>\n",
       "      <td>159</td>\n",
       "    </tr>\n",
       "  </tbody>\n",
       "</table>\n",
       "</div>"
      ],
      "text/plain": [
       "                              user  Quantity\n",
       "user                                        \n",
       "1720643430003936  1720643430003936      8410\n",
       "1749816590003936  1749816590003936       495\n",
       "1720601200003936  1720601200003936       314\n",
       "1738975340003936  1738975340003936       204\n",
       "1737308380003936  1737308380003936       159"
      ]
     },
     "execution_count": 53,
     "metadata": {},
     "output_type": "execute_result"
    }
   ],
   "source": [
    "user_df = grouped_books.groupby(['user']).sum()\n",
    "user_df['user'] = user_df.index\n",
    "user_df = user_df[['user', 'Quantity']]\n",
    "user_df.sort_values(by='Quantity', ascending=False).head(5)"
   ]
  },
  {
   "cell_type": "code",
   "execution_count": 54,
   "metadata": {},
   "outputs": [
    {
     "data": {
      "text/html": [
       "<div>\n",
       "<style>\n",
       "    .dataframe thead tr:only-child th {\n",
       "        text-align: right;\n",
       "    }\n",
       "\n",
       "    .dataframe thead th {\n",
       "        text-align: left;\n",
       "    }\n",
       "\n",
       "    .dataframe tbody tr th {\n",
       "        vertical-align: top;\n",
       "    }\n",
       "</style>\n",
       "<table border=\"1\" class=\"dataframe\">\n",
       "  <thead>\n",
       "    <tr style=\"text-align: right;\">\n",
       "      <th></th>\n",
       "      <th>#users</th>\n",
       "      <th>#arriendos</th>\n",
       "    </tr>\n",
       "    <tr>\n",
       "      <th>Quantity</th>\n",
       "      <th></th>\n",
       "      <th></th>\n",
       "    </tr>\n",
       "  </thead>\n",
       "  <tbody>\n",
       "    <tr>\n",
       "      <th>2</th>\n",
       "      <td>2274</td>\n",
       "      <td>2</td>\n",
       "    </tr>\n",
       "    <tr>\n",
       "      <th>3</th>\n",
       "      <td>1352</td>\n",
       "      <td>3</td>\n",
       "    </tr>\n",
       "    <tr>\n",
       "      <th>4</th>\n",
       "      <td>865</td>\n",
       "      <td>4</td>\n",
       "    </tr>\n",
       "    <tr>\n",
       "      <th>5</th>\n",
       "      <td>643</td>\n",
       "      <td>5</td>\n",
       "    </tr>\n",
       "    <tr>\n",
       "      <th>6</th>\n",
       "      <td>504</td>\n",
       "      <td>6</td>\n",
       "    </tr>\n",
       "  </tbody>\n",
       "</table>\n",
       "</div>"
      ],
      "text/plain": [
       "          #users  #arriendos\n",
       "Quantity                    \n",
       "2           2274           2\n",
       "3           1352           3\n",
       "4            865           4\n",
       "5            643           5\n",
       "6            504           6"
      ]
     },
     "execution_count": 54,
     "metadata": {},
     "output_type": "execute_result"
    }
   ],
   "source": [
    "users_data = user_df.groupby(['Quantity']).count()\n",
    "users_data['Quantity'] = users_data.index\n",
    "\n",
    "users_data.columns = ['#users', '#arriendos']\n",
    "\n",
    "# hay 2274 usuarios que han arrendado tan solo un libro\n",
    "users_data.head(5)"
   ]
  },
  {
   "cell_type": "code",
   "execution_count": 56,
   "metadata": {},
   "outputs": [
    {
     "data": {
      "image/png": "[encoded data removed]",
      "text/plain": [
       "<matplotlib.figure.Figure at 0x115ddbcc0>"
      ]
     },
     "metadata": {},
     "output_type": "display_data"
    }
   ],
   "source": [
    "# hay 2274 usuarios que han arrendado una sola vez, 1352 usuarios que han arrendado 2 veces....\n",
    "users_data = users_data.head(50)\n",
    "users_plot = users_data.plot.bar(x='#arriendos',y='#users', color='orange', figsize=(10,5))"
   ]
  },
  {
   "cell_type": "markdown",
   "metadata": {},
   "source": [
    "### Creamos matriz sparsed user - item - quantity"
   ]
  },
  {
   "cell_type": "code",
   "execution_count": 146,
   "metadata": {},
   "outputs": [
    {
     "data": {
      "text/plain": [
       "<7685x36610 sparse matrix of type '<class 'numpy.int64'>'\n",
       "\twith 51260 stored elements in Compressed Sparse Row format>"
      ]
     },
     "execution_count": 146,
     "metadata": {},
     "output_type": "execute_result"
    }
   ],
   "source": [
    "users = list(np.sort(grouped_books.user.unique())) \n",
    "books = list(grouped_books.item.unique()) \n",
    "quantity = list(grouped_books.Quantity) \n",
    "rows = grouped_books.user.astype('category', categories = users).cat.codes \n",
    "cols = grouped_books.item.astype('category', categories = books).cat.codes \n",
    "books_sparse = sparse.csr_matrix((quantity, (rows, cols)), shape=(len(users), len(books)))\n",
    "books_sparse"
   ]
  },
  {
   "cell_type": "code",
   "execution_count": 147,
   "metadata": {},
   "outputs": [
    {
     "data": {
      "text/plain": [
       "99.98178056096751"
      ]
     },
     "execution_count": 147,
     "metadata": {},
     "output_type": "execute_result"
    }
   ],
   "source": [
    "matrix_size = books_sparse.shape[0]*books_sparse.shape[1] \n",
    "num_book_loans = len(books_sparse.nonzero()[0]) \n",
    "sparsity = 100*(1 - (num_book_loans/matrix_size))\n",
    "sparsity"
   ]
  },
  {
   "cell_type": "code",
   "execution_count": 148,
   "metadata": {},
   "outputs": [],
   "source": [
    "'''recibe matriz sparsed y la divide 80/20 training y testing'''\n",
    "def make_train(sparse_matrix, pct_test = 0.2):\n",
    "    total_users =  7685 #users (rows de sparse matrix)\n",
    "    tramo = round(total_users * (1-pct_test))\n",
    "    training_set = sparse_matrix[0:tramo] \n",
    "    test_set = sparse_matrix[(tramo+1)::]\n",
    "    \n",
    "    return training_set, test_set  # retornamos una matriz sparse de train y de testing "
   ]
  },
  {
   "cell_type": "code",
   "execution_count": 161,
   "metadata": {},
   "outputs": [
    {
     "name": "stdout",
     "output_type": "stream",
     "text": [
      "(6148, 36610)\n",
      "(1536, 36610)\n"
     ]
    }
   ],
   "source": [
    "# split sparsed matrix\n",
    "train_dataset, test_dataset = make_train(books_sparse, pct_test = 0.2)\n",
    "\n",
    "# split dataframe \n",
    "train, test = train_test_split(grouped_books, test_size=0.2)\n",
    "\n",
    "print(train_dataset.shape)\n",
    "print(test_dataset.shape)\n"
   ]
  },
  {
   "cell_type": "code",
   "execution_count": 165,
   "metadata": {},
   "outputs": [],
   "source": [
    "def get_books(user):\n",
    "    return df.loc[df['user'] == user]\n",
    "\n",
    "def get_books_test(user):\n",
    "    return test.loc[test['user'] == user][['item']]\n",
    "    "
   ]
  },
  {
   "cell_type": "code",
   "execution_count": 168,
   "metadata": {},
   "outputs": [
    {
     "name": "stdout",
     "output_type": "stream",
     "text": [
      "libros arrendados por user_id: 1720476660003936\n"
     ]
    },
    {
     "data": {
      "text/html": [
       "<div>\n",
       "<style>\n",
       "    .dataframe thead tr:only-child th {\n",
       "        text-align: right;\n",
       "    }\n",
       "\n",
       "    .dataframe thead th {\n",
       "        text-align: left;\n",
       "    }\n",
       "\n",
       "    .dataframe tbody tr th {\n",
       "        vertical-align: top;\n",
       "    }\n",
       "</style>\n",
       "<table border=\"1\" class=\"dataframe\">\n",
       "  <thead>\n",
       "    <tr style=\"text-align: right;\">\n",
       "      <th></th>\n",
       "      <th>user</th>\n",
       "      <th>item</th>\n",
       "      <th>title</th>\n",
       "      <th>date</th>\n",
       "    </tr>\n",
       "  </thead>\n",
       "  <tbody>\n",
       "    <tr>\n",
       "      <th>552</th>\n",
       "      <td>1720476660003936</td>\n",
       "      <td>35601007473121</td>\n",
       "      <td>Cálculo y geometría analítica /</td>\n",
       "      <td>2012-05-23T04:00:00Z</td>\n",
       "    </tr>\n",
       "    <tr>\n",
       "      <th>553</th>\n",
       "      <td>1720476660003936</td>\n",
       "      <td>35601010882045</td>\n",
       "      <td>Mecánica vectorial para ingenieros /</td>\n",
       "      <td>2012-05-23T04:00:00Z</td>\n",
       "    </tr>\n",
       "  </tbody>\n",
       "</table>\n",
       "</div>"
      ],
      "text/plain": [
       "                 user            item                                  title  \\\n",
       "552  1720476660003936  35601007473121     Cálculo y geometría analítica /   \n",
       "553  1720476660003936  35601010882045  Mecánica vectorial para ingenieros /   \n",
       "\n",
       "                     date  \n",
       "552  2012-05-23T04:00:00Z  \n",
       "553  2012-05-23T04:00:00Z  "
      ]
     },
     "execution_count": 168,
     "metadata": {},
     "output_type": "execute_result"
    }
   ],
   "source": [
    "users_list = list(df['user'].unique())\n",
    "items_list = list(df['item'].unique())\n",
    "\n",
    "users_arr = np.array(users_list)\n",
    "items_arr = np.array(items_list)\n",
    "\n",
    "# libros arrendados por usuario 100 de la lista\n",
    "print('libros arrendados por user_id: {}'.format(users_list[100]))\n",
    "get_books(users_list[100])"
   ]
  },
  {
   "cell_type": "code",
   "execution_count": 169,
   "metadata": {},
   "outputs": [],
   "source": [
    "def rec_items(user_id, mf_train, user_vecs, item_vecs, user_list, item_list, item_lookup, num_items = 10):    \n",
    "    cust_ind = np.where(user_list == user_id)[0][0] # obtener el index de users id\n",
    "    pref_vec = mf_train[cust_ind,:].toarray() \n",
    "    pref_vec = pref_vec.reshape(-1) + 1 # asignamos 1 a todo, asi las historias no favoriteadas tendrán valor 1. \n",
    "    pref_vec[pref_vec > 1] = 0 # reemplazamos todo lo que ya fue favorito en zero\n",
    "    rec_vector = user_vecs[cust_ind,:].dot(item_vecs.T) # producto punto users e items transpuesto\n",
    "    \n",
    "    # Scale this recommendation vector between 0 and 1\n",
    "    min_max = MinMaxScaler()\n",
    "    \n",
    "    rec_vector_scaled = min_max.fit_transform(rec_vector.reshape(-1,1))[:,0]\n",
    "    # todos los items ya recomendados se multiplican por cero \n",
    "    recommend_vector = pref_vec*rec_vector_scaled \n",
    "    stories_idx = np.argsort(recommend_vector)[::-1][:num_items] # ordenamos los items y \n",
    "    # arriba quedan las mejores recomendaciones \n",
    "    rec_list = [] \n",
    "    for index in stories_idx:\n",
    "        code = item_list[index]\n",
    "        rec_list.append(code) \n",
    "    return rec_list # devolvemos una lista con los top 5 (num_items)"
   ]
  },
  {
   "cell_type": "code",
   "execution_count": 180,
   "metadata": {},
   "outputs": [
    {
     "name": "stderr",
     "output_type": "stream",
     "text": [
      "This method is deprecated. Please use the AlternatingLeastSquares class instead\n"
     ]
    }
   ],
   "source": [
    "alpha = 15\n",
    "user_vecs, item_vecs = implicit.alternating_least_squares((train_dataset*alpha).astype('double'), \n",
    "                                                          factors=100, \n",
    "                                                          regularization = 0.1, \n",
    "                                                         iterations = 100)"
   ]
  },
  {
   "cell_type": "code",
   "execution_count": 181,
   "metadata": {},
   "outputs": [],
   "source": [
    "# recomendacion implicita para el primer usuario de la lista\n",
    "recommendation = rec_items(users_list[100], train_dataset, user_vecs, item_vecs, users_arr, items_arr, item_lookup,\n",
    "                       num_items = 5)"
   ]
  },
  {
   "cell_type": "code",
   "execution_count": 182,
   "metadata": {},
   "outputs": [
    {
     "data": {
      "text/html": [
       "<div>\n",
       "<style>\n",
       "    .dataframe thead tr:only-child th {\n",
       "        text-align: right;\n",
       "    }\n",
       "\n",
       "    .dataframe thead th {\n",
       "        text-align: left;\n",
       "    }\n",
       "\n",
       "    .dataframe tbody tr th {\n",
       "        vertical-align: top;\n",
       "    }\n",
       "</style>\n",
       "<table border=\"1\" class=\"dataframe\">\n",
       "  <thead>\n",
       "    <tr style=\"text-align: right;\">\n",
       "      <th></th>\n",
       "      <th>item</th>\n",
       "      <th>title</th>\n",
       "    </tr>\n",
       "  </thead>\n",
       "  <tbody>\n",
       "    <tr>\n",
       "      <th>0</th>\n",
       "      <td>35601200029290</td>\n",
       "      <td>Derecho familiar chileno /</td>\n",
       "    </tr>\n",
       "    <tr>\n",
       "      <th>14</th>\n",
       "      <td>35601201656984</td>\n",
       "      <td>[Alargador múltiple múltiple blanco marca Bt...</td>\n",
       "    </tr>\n",
       "    <tr>\n",
       "      <th>27</th>\n",
       "      <td>35601200092223</td>\n",
       "      <td>Código civi : especial para estudiantes /</td>\n",
       "    </tr>\n",
       "    <tr>\n",
       "      <th>41</th>\n",
       "      <td>35601201657008</td>\n",
       "      <td>[Alargador eléctrico múltiple blanco marca T...</td>\n",
       "    </tr>\n",
       "    <tr>\n",
       "      <th>51</th>\n",
       "      <td>35601200092371</td>\n",
       "      <td>Código de comercio : especial para estudiantes /</td>\n",
       "    </tr>\n",
       "  </tbody>\n",
       "</table>\n",
       "</div>"
      ],
      "text/plain": [
       "              item                                              title\n",
       "0   35601200029290                         Derecho familiar chileno /\n",
       "14  35601201656984  [Alargador múltiple múltiple blanco marca Bt...\n",
       "27  35601200092223         Código civi : especial para estudiantes /\n",
       "41  35601201657008  [Alargador eléctrico múltiple blanco marca T...\n",
       "51  35601200092371  Código de comercio : especial para estudiantes /"
      ]
     },
     "execution_count": 182,
     "metadata": {},
     "output_type": "execute_result"
    }
   ],
   "source": [
    "# recomendacion para el usuario 100 de la lista ¿alargador electrico?\n",
    "df_recommended = pd.DataFrame({'item': recommendation})\n",
    "df_recommended.merge(df, on='item').drop_duplicates(subset='item')[['item', 'title']]"
   ]
  },
  {
   "cell_type": "code",
   "execution_count": 183,
   "metadata": {},
   "outputs": [
    {
     "name": "stdout",
     "output_type": "stream",
     "text": [
      "libros arrendados por user_id: 1720476660003936\n"
     ]
    },
    {
     "data": {
      "text/html": [
       "<div>\n",
       "<style>\n",
       "    .dataframe thead tr:only-child th {\n",
       "        text-align: right;\n",
       "    }\n",
       "\n",
       "    .dataframe thead th {\n",
       "        text-align: left;\n",
       "    }\n",
       "\n",
       "    .dataframe tbody tr th {\n",
       "        vertical-align: top;\n",
       "    }\n",
       "</style>\n",
       "<table border=\"1\" class=\"dataframe\">\n",
       "  <thead>\n",
       "    <tr style=\"text-align: right;\">\n",
       "      <th></th>\n",
       "      <th>user</th>\n",
       "      <th>item</th>\n",
       "      <th>title</th>\n",
       "      <th>date</th>\n",
       "    </tr>\n",
       "  </thead>\n",
       "  <tbody>\n",
       "    <tr>\n",
       "      <th>552</th>\n",
       "      <td>1720476660003936</td>\n",
       "      <td>35601007473121</td>\n",
       "      <td>Cálculo y geometría analítica /</td>\n",
       "      <td>2012-05-23T04:00:00Z</td>\n",
       "    </tr>\n",
       "    <tr>\n",
       "      <th>553</th>\n",
       "      <td>1720476660003936</td>\n",
       "      <td>35601010882045</td>\n",
       "      <td>Mecánica vectorial para ingenieros /</td>\n",
       "      <td>2012-05-23T04:00:00Z</td>\n",
       "    </tr>\n",
       "  </tbody>\n",
       "</table>\n",
       "</div>"
      ],
      "text/plain": [
       "                 user            item                                  title  \\\n",
       "552  1720476660003936  35601007473121     Cálculo y geometría analítica /   \n",
       "553  1720476660003936  35601010882045  Mecánica vectorial para ingenieros /   \n",
       "\n",
       "                     date  \n",
       "552  2012-05-23T04:00:00Z  \n",
       "553  2012-05-23T04:00:00Z  "
      ]
     },
     "execution_count": 183,
     "metadata": {},
     "output_type": "execute_result"
    }
   ],
   "source": [
    "users_list = list(df['user'].unique())\n",
    "items_list = list(df['item'].unique())\n",
    "\n",
    "users_arr = np.array(users_list)\n",
    "items_arr = np.array(items_list)\n",
    "\n",
    "# libros arrendados por usuario 100 de la lista\n",
    "print('libros arrendados por user_id: {}'.format(users_list[100]))\n",
    "get_books(users_list[100])"
   ]
  },
  {
   "cell_type": "markdown",
   "metadata": {},
   "source": [
    "### Recomendacion implicit feedback: "
   ]
  },
  {
   "cell_type": "code",
   "execution_count": null,
   "metadata": {},
   "outputs": [],
   "source": [
    "data = []\n",
    "\n",
    "alpha = 15 \n",
    "\n",
    "#alpha - parametro discutido en el paper de Koren & Volinsky asociado a la matriz de confianza, \n",
    "#donde Cui = 1 + alpha*Rui. \n",
    "# Rui --> preferencia del usuario \"u\" por el item \"i\" , si Rui > 0 hay una preferencia (interaccion)\n",
    "#En el paper obtienen que el default de alpha debe ser 40 (el mas efectivo) . \n",
    "\n",
    "\n",
    "user_vecs, item_vecs = implicit.alternating_least_squares((train_dataset*alpha).astype('double'), \n",
    "                                                                  factors=300, \n",
    "                                                                  regularization = 0.1, \n",
    "                                                                 iterations = 100)\n",
    "\n",
    "# OJO al hacer el corte de train y test algunos usuarios no estan en ambos, por eso recomendamos a 10000 usuarios \n",
    "for x in users_arr[0:1500]:\n",
    "\n",
    "    user_id = x\n",
    "    \n",
    "    print(user_id)\n",
    "    \n",
    "    # recomienda con dataset de test\n",
    "    recommendation_test = rec_items(user_id, test_dataset, user_vecs, item_vecs, users_arr, items_arr, item_lookup,\n",
    "                           num_items = 5)\n",
    "    \n",
    "    fav_stories = list(get_books_test(x)['item'])\n",
    "\n",
    "    relevantes = []\n",
    "    for x in recommendation_test:\n",
    "        if x in fav_stories:\n",
    "            relevantes.append(1)\n",
    "        else:\n",
    "            relevantes.append(0)\n",
    "\n",
    "    ndcg5 = ndcg.ndcg(relevantes,5)\n",
    "    precision5 = MAP.precision_at_k(relevantes,5)\n",
    "    lista_MAP = [MAP.precision_at_k(relevantes,x) for x in range(1, len(relevantes))]\n",
    "    mean_average_precision = reduce(lambda x, y: x + y, lista_MAP) / len(lista_MAP)\n",
    "\n",
    "    #print(ndcg10)\n",
    "    #print(precision10)\n",
    "    #print(mean_average_precision)\n",
    "\n",
    "    data.append(['{}'.format(user_id), ndcg5, precision5, mean_average_precision])\n",
    "\n",
    "    df_result = pd.DataFrame(data, columns = ('user', 'ndcg@5', 'precision@5', 'MAP'))\n",
    "\n",
    "#df_result\n",
    "df_result.to_csv('implicit_results_UCHILE.csv', sep=';', index=False)"
   ]
  },
  {
   "cell_type": "code",
   "execution_count": 198,
   "metadata": {},
   "outputs": [
    {
     "data": {
      "text/html": [
       "<div>\n",
       "<style>\n",
       "    .dataframe thead tr:only-child th {\n",
       "        text-align: right;\n",
       "    }\n",
       "\n",
       "    .dataframe thead th {\n",
       "        text-align: left;\n",
       "    }\n",
       "\n",
       "    .dataframe tbody tr th {\n",
       "        vertical-align: top;\n",
       "    }\n",
       "</style>\n",
       "<table border=\"1\" class=\"dataframe\">\n",
       "  <thead>\n",
       "    <tr style=\"text-align: right;\">\n",
       "      <th></th>\n",
       "      <th>ndcg@5</th>\n",
       "      <th>precision@5</th>\n",
       "      <th>MAP</th>\n",
       "    </tr>\n",
       "  </thead>\n",
       "  <tbody>\n",
       "    <tr>\n",
       "      <th>count</th>\n",
       "      <td>1500.000000</td>\n",
       "      <td>1500.000000</td>\n",
       "      <td>1500.000000</td>\n",
       "    </tr>\n",
       "    <tr>\n",
       "      <th>mean</th>\n",
       "      <td>0.301303</td>\n",
       "      <td>0.106533</td>\n",
       "      <td>0.142972</td>\n",
       "    </tr>\n",
       "    <tr>\n",
       "      <th>std</th>\n",
       "      <td>0.383352</td>\n",
       "      <td>0.141789</td>\n",
       "      <td>0.223357</td>\n",
       "    </tr>\n",
       "    <tr>\n",
       "      <th>min</th>\n",
       "      <td>0.000000</td>\n",
       "      <td>0.000000</td>\n",
       "      <td>0.000000</td>\n",
       "    </tr>\n",
       "    <tr>\n",
       "      <th>25%</th>\n",
       "      <td>0.000000</td>\n",
       "      <td>0.000000</td>\n",
       "      <td>0.000000</td>\n",
       "    </tr>\n",
       "    <tr>\n",
       "      <th>50%</th>\n",
       "      <td>0.000000</td>\n",
       "      <td>0.000000</td>\n",
       "      <td>0.000000</td>\n",
       "    </tr>\n",
       "    <tr>\n",
       "      <th>75%</th>\n",
       "      <td>0.630930</td>\n",
       "      <td>0.200000</td>\n",
       "      <td>0.270833</td>\n",
       "    </tr>\n",
       "    <tr>\n",
       "      <th>max</th>\n",
       "      <td>1.000000</td>\n",
       "      <td>0.800000</td>\n",
       "      <td>0.937500</td>\n",
       "    </tr>\n",
       "  </tbody>\n",
       "</table>\n",
       "</div>"
      ],
      "text/plain": [
       "            ndcg@5  precision@5          MAP\n",
       "count  1500.000000  1500.000000  1500.000000\n",
       "mean      0.301303     0.106533     0.142972\n",
       "std       0.383352     0.141789     0.223357\n",
       "min       0.000000     0.000000     0.000000\n",
       "25%       0.000000     0.000000     0.000000\n",
       "50%       0.000000     0.000000     0.000000\n",
       "75%       0.630930     0.200000     0.270833\n",
       "max       1.000000     0.800000     0.937500"
      ]
     },
     "execution_count": 198,
     "metadata": {},
     "output_type": "execute_result"
    }
   ],
   "source": [
    "result = pd.read_csv('implicit_results_UCHILE.csv', sep=';')\n",
    "result.describe()[['ndcg@5', 'precision@5', 'MAP']]"
   ]
  },
  {
   "cell_type": "code",
   "execution_count": null,
   "metadata": {},
   "outputs": [],
   "source": []
  }
 ],
 "metadata": {
  "kernelspec": {
   "display_name": "Python 3",
   "language": "python",
   "name": "python3"
  },
  "language_info": {
   "codemirror_mode": {
    "name": "ipython",
    "version": 3
   },
   "file_extension": ".py",
   "mimetype": "text/x-python",
   "name": "python",
   "nbconvert_exporter": "python",
   "pygments_lexer": "ipython3",
   "version": "3.6.5"
  }
 },
 "nbformat": 4,
 "nbformat_minor": 2
}
