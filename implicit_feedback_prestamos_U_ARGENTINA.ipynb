{
 "cells": [
  {
   "cell_type": "code",
   "execution_count": 2,
   "metadata": {},
   "outputs": [],
   "source": [
    "import pandas as pd\n",
    "import numpy as np\n",
    "import matplotlib.pyplot as plt\n",
    "\n",
    "import scipy.sparse as sparse\n",
    "from scipy.sparse.linalg import spsolve\n",
    "import random\n",
    "import implicit\n",
    "from sklearn import metrics\n",
    "from sklearn.preprocessing import MinMaxScaler\n",
    "import ndcg\n",
    "import MAP\n",
    "from functools import reduce\n",
    "\n",
    "from sklearn.model_selection import train_test_split\n",
    "\n",
    "%matplotlib inline"
   ]
  },
  {
   "cell_type": "code",
   "execution_count": 3,
   "metadata": {},
   "outputs": [
    {
     "data": {
      "text/html": [
       "<div>\n",
       "<style>\n",
       "    .dataframe thead tr:only-child th {\n",
       "        text-align: right;\n",
       "    }\n",
       "\n",
       "    .dataframe thead th {\n",
       "        text-align: left;\n",
       "    }\n",
       "\n",
       "    .dataframe tbody tr th {\n",
       "        vertical-align: top;\n",
       "    }\n",
       "</style>\n",
       "<table border=\"1\" class=\"dataframe\">\n",
       "  <thead>\n",
       "    <tr style=\"text-align: right;\">\n",
       "      <th></th>\n",
       "      <th>user</th>\n",
       "      <th>item</th>\n",
       "      <th>title</th>\n",
       "      <th>date</th>\n",
       "    </tr>\n",
       "  </thead>\n",
       "  <tbody>\n",
       "    <tr>\n",
       "      <th>0</th>\n",
       "      <td>12001</td>\n",
       "      <td>15347</td>\n",
       "      <td>El fin del trabajo :</td>\n",
       "      <td>20000415.0</td>\n",
       "    </tr>\n",
       "    <tr>\n",
       "      <th>1</th>\n",
       "      <td>12197</td>\n",
       "      <td>19077</td>\n",
       "      <td>A critique of postcolonial reason :</td>\n",
       "      <td>20000504.0</td>\n",
       "    </tr>\n",
       "    <tr>\n",
       "      <th>2</th>\n",
       "      <td>287</td>\n",
       "      <td>2231</td>\n",
       "      <td>I write as I please /</td>\n",
       "      <td>20000505.0</td>\n",
       "    </tr>\n",
       "    <tr>\n",
       "      <th>3</th>\n",
       "      <td>287</td>\n",
       "      <td>3478</td>\n",
       "      <td>Poemas :</td>\n",
       "      <td>20000505.0</td>\n",
       "    </tr>\n",
       "    <tr>\n",
       "      <th>4</th>\n",
       "      <td>12095</td>\n",
       "      <td>395</td>\n",
       "      <td>Política militar /</td>\n",
       "      <td>20000508.0</td>\n",
       "    </tr>\n",
       "  </tbody>\n",
       "</table>\n",
       "</div>"
      ],
      "text/plain": [
       "    user   item                                title        date\n",
       "0  12001  15347                 El fin del trabajo :  20000415.0\n",
       "1  12197  19077  A critique of postcolonial reason :  20000504.0\n",
       "2    287   2231                I write as I please /  20000505.0\n",
       "3    287   3478                             Poemas :  20000505.0\n",
       "4  12095    395                   Política militar /  20000508.0"
      ]
     },
     "execution_count": 3,
     "metadata": {},
     "output_type": "execute_result"
    }
   ],
   "source": [
    "df = pd.read_csv('udesahistoricos-csv.txt', sep=';')\n",
    "df.head()"
   ]
  },
  {
   "cell_type": "code",
   "execution_count": 4,
   "metadata": {},
   "outputs": [
    {
     "data": {
      "text/html": [
       "<div>\n",
       "<style>\n",
       "    .dataframe thead tr:only-child th {\n",
       "        text-align: right;\n",
       "    }\n",
       "\n",
       "    .dataframe thead th {\n",
       "        text-align: left;\n",
       "    }\n",
       "\n",
       "    .dataframe tbody tr th {\n",
       "        vertical-align: top;\n",
       "    }\n",
       "</style>\n",
       "<table border=\"1\" class=\"dataframe\">\n",
       "  <thead>\n",
       "    <tr style=\"text-align: right;\">\n",
       "      <th></th>\n",
       "      <th>user</th>\n",
       "      <th>item</th>\n",
       "      <th>title</th>\n",
       "      <th>date</th>\n",
       "    </tr>\n",
       "  </thead>\n",
       "  <tbody>\n",
       "    <tr>\n",
       "      <th>0</th>\n",
       "      <td>12001</td>\n",
       "      <td>15347</td>\n",
       "      <td>El fin del trabajo :</td>\n",
       "      <td>20000415.0</td>\n",
       "    </tr>\n",
       "    <tr>\n",
       "      <th>1</th>\n",
       "      <td>12197</td>\n",
       "      <td>19077</td>\n",
       "      <td>A critique of postcolonial reason :</td>\n",
       "      <td>20000504.0</td>\n",
       "    </tr>\n",
       "    <tr>\n",
       "      <th>2</th>\n",
       "      <td>287</td>\n",
       "      <td>2231</td>\n",
       "      <td>I write as I please /</td>\n",
       "      <td>20000505.0</td>\n",
       "    </tr>\n",
       "    <tr>\n",
       "      <th>3</th>\n",
       "      <td>287</td>\n",
       "      <td>3478</td>\n",
       "      <td>Poemas :</td>\n",
       "      <td>20000505.0</td>\n",
       "    </tr>\n",
       "    <tr>\n",
       "      <th>4</th>\n",
       "      <td>12095</td>\n",
       "      <td>395</td>\n",
       "      <td>Política militar /</td>\n",
       "      <td>20000508.0</td>\n",
       "    </tr>\n",
       "  </tbody>\n",
       "</table>\n",
       "</div>"
      ],
      "text/plain": [
       "    user   item                                title        date\n",
       "0  12001  15347                 El fin del trabajo :  20000415.0\n",
       "1  12197  19077  A critique of postcolonial reason :  20000504.0\n",
       "2    287   2231                I write as I please /  20000505.0\n",
       "3    287   3478                             Poemas :  20000505.0\n",
       "4  12095    395                   Política militar /  20000508.0"
      ]
     },
     "execution_count": 4,
     "metadata": {},
     "output_type": "execute_result"
    }
   ],
   "source": [
    "# quitamos nulls \n",
    "df = df.loc[pd.isnull(df.user) == False]\n",
    "df.head(5)"
   ]
  },
  {
   "cell_type": "code",
   "execution_count": 5,
   "metadata": {},
   "outputs": [
    {
     "name": "stdout",
     "output_type": "stream",
     "text": [
      "usuarios: 7845\n",
      "libros: 37267\n",
      "prestamos por usuario: 4.750414276609305\n"
     ]
    }
   ],
   "source": [
    "num_users = len(df['user'].unique())\n",
    "num_books = len(df['item'].unique())\n",
    "print('usuarios: {}'.format(num_users))\n",
    "print('libros: {}'.format(num_books))\n",
    "print('prestamos por usuario: {}'.format(num_books/num_users))"
   ]
  },
  {
   "cell_type": "code",
   "execution_count": 6,
   "metadata": {},
   "outputs": [],
   "source": [
    "# creamos df con items unicos para hacer busqueda por id mas eficiente \n",
    "item_lookup = df[['item', 'title']].drop_duplicates() \n",
    "item_lookup['item'] = item_lookup.item.astype(str) "
   ]
  },
  {
   "cell_type": "code",
   "execution_count": 7,
   "metadata": {},
   "outputs": [
    {
     "data": {
      "text/html": [
       "<div>\n",
       "<style>\n",
       "    .dataframe thead tr:only-child th {\n",
       "        text-align: right;\n",
       "    }\n",
       "\n",
       "    .dataframe thead th {\n",
       "        text-align: left;\n",
       "    }\n",
       "\n",
       "    .dataframe tbody tr th {\n",
       "        vertical-align: top;\n",
       "    }\n",
       "</style>\n",
       "<table border=\"1\" class=\"dataframe\">\n",
       "  <thead>\n",
       "    <tr style=\"text-align: right;\">\n",
       "      <th></th>\n",
       "      <th>user</th>\n",
       "      <th>item</th>\n",
       "      <th>Quantity</th>\n",
       "    </tr>\n",
       "  </thead>\n",
       "  <tbody>\n",
       "    <tr>\n",
       "      <th>0</th>\n",
       "      <td>0</td>\n",
       "      <td>18827</td>\n",
       "      <td>2</td>\n",
       "    </tr>\n",
       "    <tr>\n",
       "      <th>1</th>\n",
       "      <td>0</td>\n",
       "      <td>18888</td>\n",
       "      <td>2</td>\n",
       "    </tr>\n",
       "    <tr>\n",
       "      <th>2</th>\n",
       "      <td>0</td>\n",
       "      <td>18890</td>\n",
       "      <td>2</td>\n",
       "    </tr>\n",
       "    <tr>\n",
       "      <th>3</th>\n",
       "      <td>0</td>\n",
       "      <td>22282</td>\n",
       "      <td>8</td>\n",
       "    </tr>\n",
       "    <tr>\n",
       "      <th>4</th>\n",
       "      <td>02YA06344</td>\n",
       "      <td>10507</td>\n",
       "      <td>1</td>\n",
       "    </tr>\n",
       "  </tbody>\n",
       "</table>\n",
       "</div>"
      ],
      "text/plain": [
       "           user   item  Quantity\n",
       "0             0  18827         2\n",
       "1             0  18888         2\n",
       "2             0  18890         2\n",
       "3             0  22282         8\n",
       "4  02YA06344     10507         1"
      ]
     },
     "execution_count": 7,
     "metadata": {},
     "output_type": "execute_result"
    }
   ],
   "source": [
    "df['user'] = df.user.astype(str)\n",
    "grouped_books = df.groupby([\"user\", \"item\"]).size().reset_index(name=\"Quantity\")\n",
    "grouped_books.head(5)"
   ]
  },
  {
   "cell_type": "markdown",
   "metadata": {},
   "source": [
    "### libros mas arrendados: "
   ]
  },
  {
   "cell_type": "code",
   "execution_count": 8,
   "metadata": {},
   "outputs": [
    {
     "data": {
      "text/html": [
       "<div>\n",
       "<style>\n",
       "    .dataframe thead tr:only-child th {\n",
       "        text-align: right;\n",
       "    }\n",
       "\n",
       "    .dataframe thead th {\n",
       "        text-align: left;\n",
       "    }\n",
       "\n",
       "    .dataframe tbody tr th {\n",
       "        vertical-align: top;\n",
       "    }\n",
       "</style>\n",
       "<table border=\"1\" class=\"dataframe\">\n",
       "  <thead>\n",
       "    <tr style=\"text-align: right;\">\n",
       "      <th></th>\n",
       "      <th>title</th>\n",
       "      <th>Quantity</th>\n",
       "    </tr>\n",
       "  </thead>\n",
       "  <tbody>\n",
       "    <tr>\n",
       "      <th>0</th>\n",
       "      <td>Japan, the system that soured :</td>\n",
       "      <td>239</td>\n",
       "    </tr>\n",
       "    <tr>\n",
       "      <th>239</th>\n",
       "      <td>Factores explicativos de la política de divide...</td>\n",
       "      <td>209</td>\n",
       "    </tr>\n",
       "    <tr>\n",
       "      <th>448</th>\n",
       "      <td>E-commerce móvil /</td>\n",
       "      <td>188</td>\n",
       "    </tr>\n",
       "    <tr>\n",
       "      <th>636</th>\n",
       "      <td>The theory of sequential search for the lowest...</td>\n",
       "      <td>183</td>\n",
       "    </tr>\n",
       "    <tr>\n",
       "      <th>819</th>\n",
       "      <td>Exercises and applications for Microeconomic a...</td>\n",
       "      <td>179</td>\n",
       "    </tr>\n",
       "  </tbody>\n",
       "</table>\n",
       "</div>"
      ],
      "text/plain": [
       "                                                 title  Quantity\n",
       "0                      Japan, the system that soured :       239\n",
       "239  Factores explicativos de la política de divide...       209\n",
       "448                                 E-commerce móvil /       188\n",
       "636  The theory of sequential search for the lowest...       183\n",
       "819  Exercises and applications for Microeconomic a...       179"
      ]
     },
     "execution_count": 8,
     "metadata": {},
     "output_type": "execute_result"
    }
   ],
   "source": [
    "item_df = grouped_books.groupby(['item']).sum()\n",
    "\n",
    "#libros mas arrendados Japan, the system soured\n",
    "books_df = item_df.sort_values(by='Quantity', ascending=False)\n",
    "books_df['item'] = books_df.index\n",
    "books_df = books_df[['item', 'Quantity']]\n",
    "mas_arrendado_df = books_df.merge(df, on='item').drop_duplicates('title').head()\n",
    "mas_arrendado_df[['title', 'Quantity']]"
   ]
  },
  {
   "cell_type": "code",
   "execution_count": 9,
   "metadata": {},
   "outputs": [
    {
     "data": {
      "text/html": [
       "<div>\n",
       "<style>\n",
       "    .dataframe thead tr:only-child th {\n",
       "        text-align: right;\n",
       "    }\n",
       "\n",
       "    .dataframe thead th {\n",
       "        text-align: left;\n",
       "    }\n",
       "\n",
       "    .dataframe tbody tr th {\n",
       "        vertical-align: top;\n",
       "    }\n",
       "</style>\n",
       "<table border=\"1\" class=\"dataframe\">\n",
       "  <thead>\n",
       "    <tr style=\"text-align: right;\">\n",
       "      <th></th>\n",
       "      <th>#items</th>\n",
       "      <th>quantity lends</th>\n",
       "    </tr>\n",
       "    <tr>\n",
       "      <th>Quantity</th>\n",
       "      <th></th>\n",
       "      <th></th>\n",
       "    </tr>\n",
       "  </thead>\n",
       "  <tbody>\n",
       "    <tr>\n",
       "      <th>1</th>\n",
       "      <td>11812</td>\n",
       "      <td>1</td>\n",
       "    </tr>\n",
       "    <tr>\n",
       "      <th>2</th>\n",
       "      <td>6674</td>\n",
       "      <td>2</td>\n",
       "    </tr>\n",
       "    <tr>\n",
       "      <th>3</th>\n",
       "      <td>4236</td>\n",
       "      <td>3</td>\n",
       "    </tr>\n",
       "    <tr>\n",
       "      <th>4</th>\n",
       "      <td>2981</td>\n",
       "      <td>4</td>\n",
       "    </tr>\n",
       "    <tr>\n",
       "      <th>5</th>\n",
       "      <td>2127</td>\n",
       "      <td>5</td>\n",
       "    </tr>\n",
       "  </tbody>\n",
       "</table>\n",
       "</div>"
      ],
      "text/plain": [
       "          #items  quantity lends\n",
       "Quantity                        \n",
       "1          11812               1\n",
       "2           6674               2\n",
       "3           4236               3\n",
       "4           2981               4\n",
       "5           2127               5"
      ]
     },
     "execution_count": 9,
     "metadata": {},
     "output_type": "execute_result"
    }
   ],
   "source": [
    "books_data = books_df.groupby(['Quantity']).count()\n",
    "books_data['Quantity'] = books_data.index\n",
    "books_data = books_data[['item', 'Quantity']]\n",
    "books_data.columns = ['#items', 'quantity lends']\n",
    "\n",
    "# existen 11.812 libros que han sido arrendados una sola vez, libro mas arrendado \"Japan, the system soured\"\n",
    "books_data.head(5)\n"
   ]
  },
  {
   "cell_type": "code",
   "execution_count": 11,
   "metadata": {},
   "outputs": [
    {
     "data": {
      "image/png": "[encoded data removed]",
      "text/plain": [
       "<matplotlib.figure.Figure at 0x113ba4a58>"
      ]
     },
     "metadata": {},
     "output_type": "display_data"
    }
   ],
   "source": [
    "# 11.812 libros han sido arrendados una vez \n",
    "books_data = books_data.head(50)\n",
    "books_plot = books_data.plot.bar(x='quantity lends',y='#items', color='orange', figsize=(10,5))"
   ]
  },
  {
   "cell_type": "markdown",
   "metadata": {},
   "source": [
    "### usuarios que mas han arrendado: "
   ]
  },
  {
   "cell_type": "code",
   "execution_count": 12,
   "metadata": {},
   "outputs": [
    {
     "data": {
      "text/html": [
       "<div>\n",
       "<style>\n",
       "    .dataframe thead tr:only-child th {\n",
       "        text-align: right;\n",
       "    }\n",
       "\n",
       "    .dataframe thead th {\n",
       "        text-align: left;\n",
       "    }\n",
       "\n",
       "    .dataframe tbody tr th {\n",
       "        vertical-align: top;\n",
       "    }\n",
       "</style>\n",
       "<table border=\"1\" class=\"dataframe\">\n",
       "  <thead>\n",
       "    <tr style=\"text-align: right;\">\n",
       "      <th></th>\n",
       "      <th>user</th>\n",
       "      <th>Quantity</th>\n",
       "    </tr>\n",
       "    <tr>\n",
       "      <th>user</th>\n",
       "      <th></th>\n",
       "      <th></th>\n",
       "    </tr>\n",
       "  </thead>\n",
       "  <tbody>\n",
       "    <tr>\n",
       "      <th>3</th>\n",
       "      <td>3</td>\n",
       "      <td>2070</td>\n",
       "    </tr>\n",
       "    <tr>\n",
       "      <th>5</th>\n",
       "      <td>5</td>\n",
       "      <td>2054</td>\n",
       "    </tr>\n",
       "    <tr>\n",
       "      <th>255</th>\n",
       "      <td>255</td>\n",
       "      <td>1331</td>\n",
       "    </tr>\n",
       "    <tr>\n",
       "      <th>13</th>\n",
       "      <td>13</td>\n",
       "      <td>1294</td>\n",
       "    </tr>\n",
       "    <tr>\n",
       "      <th>212</th>\n",
       "      <td>212</td>\n",
       "      <td>1111</td>\n",
       "    </tr>\n",
       "  </tbody>\n",
       "</table>\n",
       "</div>"
      ],
      "text/plain": [
       "     user  Quantity\n",
       "user               \n",
       "3       3      2070\n",
       "5       5      2054\n",
       "255   255      1331\n",
       "13     13      1294\n",
       "212   212      1111"
      ]
     },
     "execution_count": 12,
     "metadata": {},
     "output_type": "execute_result"
    }
   ],
   "source": [
    "# usuario de id 3 ha arrendado 2070 libros \n",
    "user_df = grouped_books.groupby(['user']).sum()\n",
    "user_df['user'] = user_df.index\n",
    "user_df = user_df[['user', 'Quantity']]\n",
    "user_df.sort_values(by='Quantity', ascending=False).head(5)"
   ]
  },
  {
   "cell_type": "code",
   "execution_count": 13,
   "metadata": {},
   "outputs": [
    {
     "data": {
      "text/html": [
       "<div>\n",
       "<style>\n",
       "    .dataframe thead tr:only-child th {\n",
       "        text-align: right;\n",
       "    }\n",
       "\n",
       "    .dataframe thead th {\n",
       "        text-align: left;\n",
       "    }\n",
       "\n",
       "    .dataframe tbody tr th {\n",
       "        vertical-align: top;\n",
       "    }\n",
       "</style>\n",
       "<table border=\"1\" class=\"dataframe\">\n",
       "  <thead>\n",
       "    <tr style=\"text-align: right;\">\n",
       "      <th></th>\n",
       "      <th>#users</th>\n",
       "      <th>#arriendos</th>\n",
       "    </tr>\n",
       "    <tr>\n",
       "      <th>Quantity</th>\n",
       "      <th></th>\n",
       "      <th></th>\n",
       "    </tr>\n",
       "  </thead>\n",
       "  <tbody>\n",
       "    <tr>\n",
       "      <th>1</th>\n",
       "      <td>1210</td>\n",
       "      <td>1</td>\n",
       "    </tr>\n",
       "    <tr>\n",
       "      <th>2</th>\n",
       "      <td>695</td>\n",
       "      <td>2</td>\n",
       "    </tr>\n",
       "    <tr>\n",
       "      <th>3</th>\n",
       "      <td>564</td>\n",
       "      <td>3</td>\n",
       "    </tr>\n",
       "    <tr>\n",
       "      <th>4</th>\n",
       "      <td>423</td>\n",
       "      <td>4</td>\n",
       "    </tr>\n",
       "    <tr>\n",
       "      <th>5</th>\n",
       "      <td>332</td>\n",
       "      <td>5</td>\n",
       "    </tr>\n",
       "  </tbody>\n",
       "</table>\n",
       "</div>"
      ],
      "text/plain": [
       "          #users  #arriendos\n",
       "Quantity                    \n",
       "1           1210           1\n",
       "2            695           2\n",
       "3            564           3\n",
       "4            423           4\n",
       "5            332           5"
      ]
     },
     "execution_count": 13,
     "metadata": {},
     "output_type": "execute_result"
    }
   ],
   "source": [
    "users_data = user_df.groupby(['Quantity']).count()\n",
    "users_data['Quantity'] = users_data.index\n",
    "\n",
    "users_data.columns = ['#users', '#arriendos']\n",
    "\n",
    "# hay 1210 usuarios que han arrendado tan solo un libro\n",
    "users_data.head(5)"
   ]
  },
  {
   "cell_type": "code",
   "execution_count": 16,
   "metadata": {},
   "outputs": [
    {
     "data": {
      "image/png": "[encoded data removed]",
      "text/plain": [
       "<matplotlib.figure.Figure at 0x113c70be0>"
      ]
     },
     "metadata": {},
     "output_type": "display_data"
    }
   ],
   "source": [
    "# hay 2274 usuarios que han arrendado una sola vez, 1352 usuarios que han arrendado 2 veces....\n",
    "users_data = users_data.head(100)\n",
    "users_plot = users_data.plot.bar(x='#arriendos',y='#users', color='orange', figsize=(10,5))"
   ]
  },
  {
   "cell_type": "markdown",
   "metadata": {},
   "source": [
    "### Creamos matriz sparsed user - item - quantity"
   ]
  },
  {
   "cell_type": "code",
   "execution_count": 17,
   "metadata": {},
   "outputs": [
    {
     "data": {
      "text/plain": [
       "<7845x37267 sparse matrix of type '<class 'numpy.int64'>'\n",
       "\twith 164491 stored elements in Compressed Sparse Row format>"
      ]
     },
     "execution_count": 17,
     "metadata": {},
     "output_type": "execute_result"
    }
   ],
   "source": [
    "users = list(np.sort(grouped_books.user.unique())) \n",
    "books = list(grouped_books.item.unique()) \n",
    "quantity = list(grouped_books.Quantity) \n",
    "rows = grouped_books.user.astype('category', categories = users).cat.codes \n",
    "cols = grouped_books.item.astype('category', categories = books).cat.codes \n",
    "books_sparse = sparse.csr_matrix((quantity, (rows, cols)), shape=(len(users), len(books)))\n",
    "books_sparse"
   ]
  },
  {
   "cell_type": "code",
   "execution_count": 18,
   "metadata": {},
   "outputs": [
    {
     "data": {
      "text/plain": [
       "99.94373675721252"
      ]
     },
     "execution_count": 18,
     "metadata": {},
     "output_type": "execute_result"
    }
   ],
   "source": [
    "matrix_size = books_sparse.shape[0]*books_sparse.shape[1] \n",
    "num_book_loans = len(books_sparse.nonzero()[0]) \n",
    "sparsity = 100*(1 - (num_book_loans/matrix_size))\n",
    "sparsity"
   ]
  },
  {
   "cell_type": "code",
   "execution_count": 20,
   "metadata": {},
   "outputs": [],
   "source": [
    "'''recibe matriz sparsed y la divide 80/20 training y testing'''\n",
    "def make_train(sparse_matrix, pct_test = 0.2):\n",
    "    total_users =  7845 #users (rows de sparse matrix)\n",
    "    tramo = round(total_users * (1-pct_test))\n",
    "    training_set = sparse_matrix[0:tramo] \n",
    "    test_set = sparse_matrix[(tramo+1)::]\n",
    "    \n",
    "    return training_set, test_set  # retornamos una matriz sparse de train y de testing "
   ]
  },
  {
   "cell_type": "code",
   "execution_count": 21,
   "metadata": {},
   "outputs": [
    {
     "name": "stdout",
     "output_type": "stream",
     "text": [
      "(6276, 37267)\n",
      "(1568, 37267)\n"
     ]
    }
   ],
   "source": [
    "# split sparsed matrix\n",
    "train_dataset, test_dataset = make_train(books_sparse, pct_test = 0.2)\n",
    "\n",
    "# split dataframe \n",
    "train, test = train_test_split(grouped_books, test_size=0.2)\n",
    "\n",
    "print(train_dataset.shape)\n",
    "print(test_dataset.shape)\n"
   ]
  },
  {
   "cell_type": "code",
   "execution_count": 22,
   "metadata": {},
   "outputs": [],
   "source": [
    "def get_books(user):\n",
    "    return df.loc[df['user'] == user]\n",
    "\n",
    "def get_books_test(user):\n",
    "    return test.loc[test['user'] == user][['item']]\n",
    "    "
   ]
  },
  {
   "cell_type": "code",
   "execution_count": 23,
   "metadata": {},
   "outputs": [
    {
     "name": "stdout",
     "output_type": "stream",
     "text": [
      "libros arrendados por user_id: 12082\n"
     ]
    },
    {
     "data": {
      "text/html": [
       "<div>\n",
       "<style>\n",
       "    .dataframe thead tr:only-child th {\n",
       "        text-align: right;\n",
       "    }\n",
       "\n",
       "    .dataframe thead th {\n",
       "        text-align: left;\n",
       "    }\n",
       "\n",
       "    .dataframe tbody tr th {\n",
       "        vertical-align: top;\n",
       "    }\n",
       "</style>\n",
       "<table border=\"1\" class=\"dataframe\">\n",
       "  <thead>\n",
       "    <tr style=\"text-align: right;\">\n",
       "      <th></th>\n",
       "      <th>user</th>\n",
       "      <th>item</th>\n",
       "      <th>title</th>\n",
       "      <th>date</th>\n",
       "    </tr>\n",
       "  </thead>\n",
       "  <tbody>\n",
       "    <tr>\n",
       "      <th>205</th>\n",
       "      <td>12082</td>\n",
       "      <td>18635</td>\n",
       "      <td>Fascism /</td>\n",
       "      <td>20000512.0</td>\n",
       "    </tr>\n",
       "    <tr>\n",
       "      <th>1531</th>\n",
       "      <td>12082</td>\n",
       "      <td>6666</td>\n",
       "      <td>El hombre autorrealizado :</td>\n",
       "      <td>20000614.0</td>\n",
       "    </tr>\n",
       "    <tr>\n",
       "      <th>1822</th>\n",
       "      <td>12082</td>\n",
       "      <td>11410</td>\n",
       "      <td>El mundo de Roland Barthes /</td>\n",
       "      <td>20000621.0</td>\n",
       "    </tr>\n",
       "  </tbody>\n",
       "</table>\n",
       "</div>"
      ],
      "text/plain": [
       "       user   item                         title        date\n",
       "205   12082  18635                     Fascism /  20000512.0\n",
       "1531  12082   6666    El hombre autorrealizado :  20000614.0\n",
       "1822  12082  11410  El mundo de Roland Barthes /  20000621.0"
      ]
     },
     "execution_count": 23,
     "metadata": {},
     "output_type": "execute_result"
    }
   ],
   "source": [
    "users_list = list(df['user'].unique())\n",
    "items_list = list(df['item'].unique())\n",
    "\n",
    "users_arr = np.array(users_list)\n",
    "items_arr = np.array(items_list)\n",
    "\n",
    "# libros arrendados por usuario 100 de la lista\n",
    "print('libros arrendados por user_id: {}'.format(users_list[100]))\n",
    "get_books(users_list[100])"
   ]
  },
  {
   "cell_type": "code",
   "execution_count": 24,
   "metadata": {},
   "outputs": [],
   "source": [
    "def rec_items(user_id, mf_train, user_vecs, item_vecs, user_list, item_list, item_lookup, num_items = 10):    \n",
    "    cust_ind = np.where(user_list == user_id)[0][0] # obtener el index de users id\n",
    "    pref_vec = mf_train[cust_ind,:].toarray() \n",
    "    pref_vec = pref_vec.reshape(-1) + 1 # asignamos 1 a todo, asi las historias no favoriteadas tendrán valor 1. \n",
    "    pref_vec[pref_vec > 1] = 0 # reemplazamos todo lo que ya fue favorito en zero\n",
    "    rec_vector = user_vecs[cust_ind,:].dot(item_vecs.T) # producto punto users e items transpuesto\n",
    "    \n",
    "    # Scale this recommendation vector between 0 and 1\n",
    "    min_max = MinMaxScaler()\n",
    "    \n",
    "    rec_vector_scaled = min_max.fit_transform(rec_vector.reshape(-1,1))[:,0]\n",
    "    # todos los items ya recomendados se multiplican por cero \n",
    "    recommend_vector = pref_vec*rec_vector_scaled \n",
    "    stories_idx = np.argsort(recommend_vector)[::-1][:num_items] # ordenamos los items y \n",
    "    # arriba quedan las mejores recomendaciones \n",
    "    rec_list = [] \n",
    "    for index in stories_idx:\n",
    "        code = item_list[index]\n",
    "        rec_list.append(code) \n",
    "    return rec_list # devolvemos una lista con los top 5 (num_items)"
   ]
  },
  {
   "cell_type": "code",
   "execution_count": 25,
   "metadata": {},
   "outputs": [
    {
     "name": "stderr",
     "output_type": "stream",
     "text": [
      "This method is deprecated. Please use the AlternatingLeastSquares class instead\n"
     ]
    }
   ],
   "source": [
    "alpha = 15\n",
    "user_vecs, item_vecs = implicit.alternating_least_squares((train_dataset*alpha).astype('double'), \n",
    "                                                          factors=100, \n",
    "                                                          regularization = 0.1, \n",
    "                                                         iterations = 100)"
   ]
  },
  {
   "cell_type": "code",
   "execution_count": 26,
   "metadata": {},
   "outputs": [],
   "source": [
    "# recomendacion implicita para el primer usuario de la lista\n",
    "recommendation = rec_items(users_list[100], train_dataset, user_vecs, item_vecs, users_arr, items_arr, item_lookup,\n",
    "                       num_items = 5)"
   ]
  },
  {
   "cell_type": "code",
   "execution_count": 28,
   "metadata": {},
   "outputs": [
    {
     "name": "stdout",
     "output_type": "stream",
     "text": [
      "libros recomendados para el usuario de id: 12082\n"
     ]
    },
    {
     "data": {
      "text/html": [
       "<div>\n",
       "<style>\n",
       "    .dataframe thead tr:only-child th {\n",
       "        text-align: right;\n",
       "    }\n",
       "\n",
       "    .dataframe thead th {\n",
       "        text-align: left;\n",
       "    }\n",
       "\n",
       "    .dataframe tbody tr th {\n",
       "        vertical-align: top;\n",
       "    }\n",
       "</style>\n",
       "<table border=\"1\" class=\"dataframe\">\n",
       "  <thead>\n",
       "    <tr style=\"text-align: right;\">\n",
       "      <th></th>\n",
       "      <th>item</th>\n",
       "      <th>title</th>\n",
       "    </tr>\n",
       "  </thead>\n",
       "  <tbody>\n",
       "    <tr>\n",
       "      <th>0</th>\n",
       "      <td>49337</td>\n",
       "      <td>Fist, stick, knife, gun :</td>\n",
       "    </tr>\n",
       "    <tr>\n",
       "      <th>3</th>\n",
       "      <td>7758</td>\n",
       "      <td>The leader-manager :</td>\n",
       "    </tr>\n",
       "    <tr>\n",
       "      <th>18</th>\n",
       "      <td>21430</td>\n",
       "      <td>La llamada de la selva /</td>\n",
       "    </tr>\n",
       "    <tr>\n",
       "      <th>20</th>\n",
       "      <td>21206</td>\n",
       "      <td>Sociolinguistic patterns /</td>\n",
       "    </tr>\n",
       "    <tr>\n",
       "      <th>46</th>\n",
       "      <td>39984</td>\n",
       "      <td>Psychologie et pédagogie /</td>\n",
       "    </tr>\n",
       "  </tbody>\n",
       "</table>\n",
       "</div>"
      ],
      "text/plain": [
       "     item                       title\n",
       "0   49337   Fist, stick, knife, gun :\n",
       "3    7758        The leader-manager :\n",
       "18  21430    La llamada de la selva /\n",
       "20  21206  Sociolinguistic patterns /\n",
       "46  39984  Psychologie et pédagogie /"
      ]
     },
     "execution_count": 28,
     "metadata": {},
     "output_type": "execute_result"
    }
   ],
   "source": [
    "# recomendacion para el usuario 100 de la lista \n",
    "print('libros recomendados para el usuario de id: {}'.format(users_list[100]))\n",
    "df_recommended = pd.DataFrame({'item': recommendation})\n",
    "df_recommended.merge(df, on='item').drop_duplicates(subset='item')[['item', 'title']]"
   ]
  },
  {
   "cell_type": "code",
   "execution_count": 29,
   "metadata": {},
   "outputs": [
    {
     "name": "stdout",
     "output_type": "stream",
     "text": [
      "libros arrendados por user_id: 12082\n"
     ]
    },
    {
     "data": {
      "text/html": [
       "<div>\n",
       "<style>\n",
       "    .dataframe thead tr:only-child th {\n",
       "        text-align: right;\n",
       "    }\n",
       "\n",
       "    .dataframe thead th {\n",
       "        text-align: left;\n",
       "    }\n",
       "\n",
       "    .dataframe tbody tr th {\n",
       "        vertical-align: top;\n",
       "    }\n",
       "</style>\n",
       "<table border=\"1\" class=\"dataframe\">\n",
       "  <thead>\n",
       "    <tr style=\"text-align: right;\">\n",
       "      <th></th>\n",
       "      <th>user</th>\n",
       "      <th>item</th>\n",
       "      <th>title</th>\n",
       "      <th>date</th>\n",
       "    </tr>\n",
       "  </thead>\n",
       "  <tbody>\n",
       "    <tr>\n",
       "      <th>205</th>\n",
       "      <td>12082</td>\n",
       "      <td>18635</td>\n",
       "      <td>Fascism /</td>\n",
       "      <td>20000512.0</td>\n",
       "    </tr>\n",
       "    <tr>\n",
       "      <th>1531</th>\n",
       "      <td>12082</td>\n",
       "      <td>6666</td>\n",
       "      <td>El hombre autorrealizado :</td>\n",
       "      <td>20000614.0</td>\n",
       "    </tr>\n",
       "    <tr>\n",
       "      <th>1822</th>\n",
       "      <td>12082</td>\n",
       "      <td>11410</td>\n",
       "      <td>El mundo de Roland Barthes /</td>\n",
       "      <td>20000621.0</td>\n",
       "    </tr>\n",
       "  </tbody>\n",
       "</table>\n",
       "</div>"
      ],
      "text/plain": [
       "       user   item                         title        date\n",
       "205   12082  18635                     Fascism /  20000512.0\n",
       "1531  12082   6666    El hombre autorrealizado :  20000614.0\n",
       "1822  12082  11410  El mundo de Roland Barthes /  20000621.0"
      ]
     },
     "execution_count": 29,
     "metadata": {},
     "output_type": "execute_result"
    }
   ],
   "source": [
    "users_list = list(df['user'].unique())\n",
    "items_list = list(df['item'].unique())\n",
    "\n",
    "users_arr = np.array(users_list)\n",
    "items_arr = np.array(items_list)\n",
    "\n",
    "# libros arrendados por usuario 100 de la lista\n",
    "print('libros arrendados por user_id: {}'.format(users_list[100]))\n",
    "get_books(users_list[100])"
   ]
  },
  {
   "cell_type": "markdown",
   "metadata": {},
   "source": [
    "### Recomendacion implicit feedback: "
   ]
  },
  {
   "cell_type": "code",
   "execution_count": null,
   "metadata": {},
   "outputs": [],
   "source": [
    "data = []\n",
    "\n",
    "alpha = 15 \n",
    "\n",
    "#alpha - parametro discutido en el paper de Koren & Volinsky asociado a la matriz de confianza, \n",
    "#donde Cui = 1 + alpha*Rui. \n",
    "# Rui --> preferencia del usuario \"u\" por el item \"i\" , si Rui > 0 hay una preferencia (interaccion)\n",
    "#En el paper obtienen que el default de alpha debe ser 40 (el mas efectivo) . \n",
    "\n",
    "\n",
    "user_vecs, item_vecs = implicit.alternating_least_squares((train_dataset*alpha).astype('double'), \n",
    "                                                                  factors=300, \n",
    "                                                                  regularization = 0.1, \n",
    "                                                                 iterations = 100)\n",
    "\n",
    "# OJO al hacer el corte de train y test algunos usuarios no estan en ambos, por eso recomendamos a 10000 usuarios \n",
    "for x in users_arr[0:1500]:\n",
    "\n",
    "    user_id = x\n",
    "    \n",
    "    print(user_id)\n",
    "    \n",
    "    # recomienda con dataset de test\n",
    "    recommendation_test = rec_items(user_id, test_dataset, user_vecs, item_vecs, users_arr, items_arr, item_lookup,\n",
    "                           num_items = 5)\n",
    "    \n",
    "    fav_stories = list(get_books_test(x)['item'])\n",
    "\n",
    "    relevantes = []\n",
    "    for x in recommendation_test:\n",
    "        if x in fav_stories:\n",
    "            relevantes.append(1)\n",
    "        else:\n",
    "            relevantes.append(0)\n",
    "\n",
    "    ndcg5 = ndcg.ndcg(relevantes,5)\n",
    "    precision5 = MAP.precision_at_k(relevantes,5)\n",
    "    lista_MAP = [MAP.precision_at_k(relevantes,x) for x in range(1, len(relevantes))]\n",
    "    mean_average_precision = reduce(lambda x, y: x + y, lista_MAP) / len(lista_MAP)\n",
    "\n",
    "    #print(ndcg10)\n",
    "    #print(precision10)\n",
    "    #print(mean_average_precision)\n",
    "\n",
    "    data.append(['{}'.format(user_id), ndcg5, precision5, mean_average_precision])\n",
    "\n",
    "    df_result = pd.DataFrame(data, columns = ('user', 'ndcg@5', 'precision@5', 'MAP'))\n",
    "\n",
    "#df_result\n",
    "df_result.to_csv('implicit_results_U_ARGENTINA.csv', sep=';', index=False)"
   ]
  },
  {
   "cell_type": "code",
   "execution_count": 32,
   "metadata": {},
   "outputs": [
    {
     "data": {
      "text/html": [
       "<div>\n",
       "<style>\n",
       "    .dataframe thead tr:only-child th {\n",
       "        text-align: right;\n",
       "    }\n",
       "\n",
       "    .dataframe thead th {\n",
       "        text-align: left;\n",
       "    }\n",
       "\n",
       "    .dataframe tbody tr th {\n",
       "        vertical-align: top;\n",
       "    }\n",
       "</style>\n",
       "<table border=\"1\" class=\"dataframe\">\n",
       "  <thead>\n",
       "    <tr style=\"text-align: right;\">\n",
       "      <th></th>\n",
       "      <th>ndcg@5</th>\n",
       "      <th>precision@5</th>\n",
       "      <th>MAP</th>\n",
       "    </tr>\n",
       "  </thead>\n",
       "  <tbody>\n",
       "    <tr>\n",
       "      <th>count</th>\n",
       "      <td>1500.000000</td>\n",
       "      <td>1500.000000</td>\n",
       "      <td>1500.000000</td>\n",
       "    </tr>\n",
       "    <tr>\n",
       "      <th>mean</th>\n",
       "      <td>0.002528</td>\n",
       "      <td>0.000800</td>\n",
       "      <td>0.000917</td>\n",
       "    </tr>\n",
       "    <tr>\n",
       "      <th>std</th>\n",
       "      <td>0.043195</td>\n",
       "      <td>0.012628</td>\n",
       "      <td>0.019573</td>\n",
       "    </tr>\n",
       "    <tr>\n",
       "      <th>min</th>\n",
       "      <td>0.000000</td>\n",
       "      <td>0.000000</td>\n",
       "      <td>0.000000</td>\n",
       "    </tr>\n",
       "    <tr>\n",
       "      <th>25%</th>\n",
       "      <td>0.000000</td>\n",
       "      <td>0.000000</td>\n",
       "      <td>0.000000</td>\n",
       "    </tr>\n",
       "    <tr>\n",
       "      <th>50%</th>\n",
       "      <td>0.000000</td>\n",
       "      <td>0.000000</td>\n",
       "      <td>0.000000</td>\n",
       "    </tr>\n",
       "    <tr>\n",
       "      <th>75%</th>\n",
       "      <td>0.000000</td>\n",
       "      <td>0.000000</td>\n",
       "      <td>0.000000</td>\n",
       "    </tr>\n",
       "    <tr>\n",
       "      <th>max</th>\n",
       "      <td>1.000000</td>\n",
       "      <td>0.200000</td>\n",
       "      <td>0.520833</td>\n",
       "    </tr>\n",
       "  </tbody>\n",
       "</table>\n",
       "</div>"
      ],
      "text/plain": [
       "            ndcg@5  precision@5          MAP\n",
       "count  1500.000000  1500.000000  1500.000000\n",
       "mean      0.002528     0.000800     0.000917\n",
       "std       0.043195     0.012628     0.019573\n",
       "min       0.000000     0.000000     0.000000\n",
       "25%       0.000000     0.000000     0.000000\n",
       "50%       0.000000     0.000000     0.000000\n",
       "75%       0.000000     0.000000     0.000000\n",
       "max       1.000000     0.200000     0.520833"
      ]
     },
     "execution_count": 32,
     "metadata": {},
     "output_type": "execute_result"
    }
   ],
   "source": [
    "result = pd.read_csv('implicit_results_U_ARGENTINA.csv', sep=';')\n",
    "result.describe()[['ndcg@5', 'precision@5', 'MAP']]"
   ]
  },
  {
   "cell_type": "code",
   "execution_count": null,
   "metadata": {},
   "outputs": [],
   "source": []
  }
 ],
 "metadata": {
  "kernelspec": {
   "display_name": "Python 3",
   "language": "python",
   "name": "python3"
  },
  "language_info": {
   "codemirror_mode": {
    "name": "ipython",
    "version": 3
   },
   "file_extension": ".py",
   "mimetype": "text/x-python",
   "name": "python",
   "nbconvert_exporter": "python",
   "pygments_lexer": "ipython3",
   "version": "3.6.5"
  }
 },
 "nbformat": 4,
 "nbformat_minor": 2
}
